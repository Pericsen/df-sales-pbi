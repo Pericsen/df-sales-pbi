{
 "cells": [
  {
   "cell_type": "code",
   "execution_count": 10,
   "metadata": {},
   "outputs": [],
   "source": [
    "import pandas as pd"
   ]
  },
  {
   "cell_type": "code",
   "execution_count": 11,
   "metadata": {},
   "outputs": [
    {
     "name": "stderr",
     "output_type": "stream",
     "text": [
      "C:\\Users\\peric\\AppData\\Local\\Temp\\ipykernel_23688\\652367067.py:1: DtypeWarning: Columns (23) have mixed types. Specify dtype option on import or set low_memory=False.\n",
      "  df = pd.read_csv(\"Amazon Sale Report.csv\")\n"
     ]
    }
   ],
   "source": [
    "df = pd.read_csv(\"Amazon Sale Report.csv\")"
   ]
  },
  {
   "cell_type": "code",
   "execution_count": 12,
   "metadata": {},
   "outputs": [
    {
     "data": {
      "text/plain": [
       "Index(['index', 'Order ID', 'Date', 'Status', 'Fulfilment', 'Sales Channel ',\n",
       "       'ship-service-level', 'Style', 'SKU', 'Category', 'Size', 'ASIN',\n",
       "       'Courier Status', 'Qty', 'currency', 'Amount', 'ship-city',\n",
       "       'ship-state', 'ship-postal-code', 'ship-country', 'promotion-ids',\n",
       "       'B2B', 'fulfilled-by', 'Unnamed: 22'],\n",
       "      dtype='object')"
      ]
     },
     "execution_count": 12,
     "metadata": {},
     "output_type": "execute_result"
    }
   ],
   "source": [
    "df.columns"
   ]
  },
  {
   "cell_type": "code",
   "execution_count": 13,
   "metadata": {},
   "outputs": [],
   "source": [
    "def hash_asin(asin):\n",
    "    return abs(hash(asin)) % 11  # Genera un valor entre 0 y 10\n",
    "\n",
    "# 📌 Calcular COGS Unitario (35% - 45% del precio unitario)\n",
    "df[\"COGS Unit\"] = ((df[\"Amount\"] / df[\"Qty\"]) * (0.35 + (df[\"ASIN\"].apply(hash_asin) / 100))).round(2)\n",
    "\n",
    "# 📌 Calcular COGS Total\n",
    "df[\"COGS\"] = df[\"COGS Unit\"] * df[\"Qty\"]\n",
    "\n",
    "# 📌 Calcular Other Expenses (15% - 25% del Amount)\n",
    "df[\"Other Expenses\"] = (df[\"Amount\"] * (0.15 + (df[\"ASIN\"].apply(hash_asin) / 100))).round(2)\n",
    "\n",
    "# 📌 Calcular Gross Profit\n",
    "df[\"Gross Profit\"] = df[\"Amount\"] - df[\"COGS\"]\n",
    "\n",
    "# 📌 Calcular Net Profit\n",
    "df[\"Net Profit\"] = df[\"Gross Profit\"] - df[\"Other Expenses\"]"
   ]
  },
  {
   "cell_type": "code",
   "execution_count": 14,
   "metadata": {},
   "outputs": [
    {
     "data": {
      "text/plain": [
       "Index(['index', 'Order ID', 'Date', 'Status', 'Fulfilment', 'Sales Channel ',\n",
       "       'ship-service-level', 'Style', 'SKU', 'Category', 'Size', 'ASIN',\n",
       "       'Courier Status', 'Qty', 'currency', 'Amount', 'ship-city',\n",
       "       'ship-state', 'ship-postal-code', 'ship-country', 'promotion-ids',\n",
       "       'B2B', 'fulfilled-by', 'Unnamed: 22', 'COGS Unit', 'COGS',\n",
       "       'Other Expenses', 'Gross Profit', 'Net Profit'],\n",
       "      dtype='object')"
      ]
     },
     "execution_count": 14,
     "metadata": {},
     "output_type": "execute_result"
    }
   ],
   "source": [
    "df.columns"
   ]
  },
  {
   "cell_type": "code",
   "execution_count": 15,
   "metadata": {},
   "outputs": [
    {
     "data": {
      "text/html": [
       "<div>\n",
       "<style scoped>\n",
       "    .dataframe tbody tr th:only-of-type {\n",
       "        vertical-align: middle;\n",
       "    }\n",
       "\n",
       "    .dataframe tbody tr th {\n",
       "        vertical-align: top;\n",
       "    }\n",
       "\n",
       "    .dataframe thead th {\n",
       "        text-align: right;\n",
       "    }\n",
       "</style>\n",
       "<table border=\"1\" class=\"dataframe\">\n",
       "  <thead>\n",
       "    <tr style=\"text-align: right;\">\n",
       "      <th></th>\n",
       "      <th>index</th>\n",
       "      <th>Qty</th>\n",
       "      <th>Amount</th>\n",
       "      <th>ship-postal-code</th>\n",
       "      <th>COGS Unit</th>\n",
       "      <th>COGS</th>\n",
       "      <th>Other Expenses</th>\n",
       "      <th>Gross Profit</th>\n",
       "      <th>Net Profit</th>\n",
       "    </tr>\n",
       "  </thead>\n",
       "  <tbody>\n",
       "    <tr>\n",
       "      <th>count</th>\n",
       "      <td>128975.000000</td>\n",
       "      <td>128975.000000</td>\n",
       "      <td>121180.000000</td>\n",
       "      <td>128942.000000</td>\n",
       "      <td>121180.00</td>\n",
       "      <td>116044.000000</td>\n",
       "      <td>121180.000000</td>\n",
       "      <td>116044.000000</td>\n",
       "      <td>116044.000000</td>\n",
       "    </tr>\n",
       "    <tr>\n",
       "      <th>mean</th>\n",
       "      <td>64487.000000</td>\n",
       "      <td>0.904431</td>\n",
       "      <td>648.561465</td>\n",
       "      <td>463966.236509</td>\n",
       "      <td>inf</td>\n",
       "      <td>260.456664</td>\n",
       "      <td>130.237146</td>\n",
       "      <td>389.318473</td>\n",
       "      <td>258.816836</td>\n",
       "    </tr>\n",
       "    <tr>\n",
       "      <th>std</th>\n",
       "      <td>37232.019822</td>\n",
       "      <td>0.313354</td>\n",
       "      <td>281.211687</td>\n",
       "      <td>191476.764941</td>\n",
       "      <td>NaN</td>\n",
       "      <td>116.041613</td>\n",
       "      <td>61.291588</td>\n",
       "      <td>170.374154</td>\n",
       "      <td>120.506411</td>\n",
       "    </tr>\n",
       "    <tr>\n",
       "      <th>min</th>\n",
       "      <td>0.000000</td>\n",
       "      <td>0.000000</td>\n",
       "      <td>0.000000</td>\n",
       "      <td>110001.000000</td>\n",
       "      <td>0.00</td>\n",
       "      <td>0.000000</td>\n",
       "      <td>0.000000</td>\n",
       "      <td>0.000000</td>\n",
       "      <td>0.000000</td>\n",
       "    </tr>\n",
       "    <tr>\n",
       "      <th>25%</th>\n",
       "      <td>32243.500000</td>\n",
       "      <td>1.000000</td>\n",
       "      <td>449.000000</td>\n",
       "      <td>382421.000000</td>\n",
       "      <td>178.98</td>\n",
       "      <td>175.560000</td>\n",
       "      <td>87.200000</td>\n",
       "      <td>267.850000</td>\n",
       "      <td>175.320000</td>\n",
       "    </tr>\n",
       "    <tr>\n",
       "      <th>50%</th>\n",
       "      <td>64487.000000</td>\n",
       "      <td>1.000000</td>\n",
       "      <td>605.000000</td>\n",
       "      <td>500033.000000</td>\n",
       "      <td>248.40</td>\n",
       "      <td>243.580000</td>\n",
       "      <td>119.400000</td>\n",
       "      <td>362.520000</td>\n",
       "      <td>237.820000</td>\n",
       "    </tr>\n",
       "    <tr>\n",
       "      <th>75%</th>\n",
       "      <td>96730.500000</td>\n",
       "      <td>1.000000</td>\n",
       "      <td>788.000000</td>\n",
       "      <td>600024.000000</td>\n",
       "      <td>331.53</td>\n",
       "      <td>318.600000</td>\n",
       "      <td>161.700000</td>\n",
       "      <td>477.540000</td>\n",
       "      <td>323.400000</td>\n",
       "    </tr>\n",
       "    <tr>\n",
       "      <th>max</th>\n",
       "      <td>128974.000000</td>\n",
       "      <td>15.000000</td>\n",
       "      <td>5584.000000</td>\n",
       "      <td>989898.000000</td>\n",
       "      <td>inf</td>\n",
       "      <td>2307.900000</td>\n",
       "      <td>1208.900000</td>\n",
       "      <td>3573.760000</td>\n",
       "      <td>2680.320000</td>\n",
       "    </tr>\n",
       "  </tbody>\n",
       "</table>\n",
       "</div>"
      ],
      "text/plain": [
       "               index            Qty         Amount  ship-postal-code  \\\n",
       "count  128975.000000  128975.000000  121180.000000     128942.000000   \n",
       "mean    64487.000000       0.904431     648.561465     463966.236509   \n",
       "std     37232.019822       0.313354     281.211687     191476.764941   \n",
       "min         0.000000       0.000000       0.000000     110001.000000   \n",
       "25%     32243.500000       1.000000     449.000000     382421.000000   \n",
       "50%     64487.000000       1.000000     605.000000     500033.000000   \n",
       "75%     96730.500000       1.000000     788.000000     600024.000000   \n",
       "max    128974.000000      15.000000    5584.000000     989898.000000   \n",
       "\n",
       "       COGS Unit           COGS  Other Expenses   Gross Profit     Net Profit  \n",
       "count  121180.00  116044.000000   121180.000000  116044.000000  116044.000000  \n",
       "mean         inf     260.456664      130.237146     389.318473     258.816836  \n",
       "std          NaN     116.041613       61.291588     170.374154     120.506411  \n",
       "min         0.00       0.000000        0.000000       0.000000       0.000000  \n",
       "25%       178.98     175.560000       87.200000     267.850000     175.320000  \n",
       "50%       248.40     243.580000      119.400000     362.520000     237.820000  \n",
       "75%       331.53     318.600000      161.700000     477.540000     323.400000  \n",
       "max          inf    2307.900000     1208.900000    3573.760000    2680.320000  "
      ]
     },
     "execution_count": 15,
     "metadata": {},
     "output_type": "execute_result"
    }
   ],
   "source": [
    "df.describe()"
   ]
  },
  {
   "cell_type": "code",
   "execution_count": 16,
   "metadata": {},
   "outputs": [],
   "source": [
    "df.drop(columns=[\"index\", \"Unnamed: 22\"], inplace=True)"
   ]
  },
  {
   "cell_type": "code",
   "execution_count": 17,
   "metadata": {},
   "outputs": [],
   "source": [
    "df.to_csv(\"amazon-sale-report-clean.csv\", index=False)"
   ]
  }
 ],
 "metadata": {
  "kernelspec": {
   "display_name": "sanisi-env",
   "language": "python",
   "name": "python3"
  },
  "language_info": {
   "codemirror_mode": {
    "name": "ipython",
    "version": 3
   },
   "file_extension": ".py",
   "mimetype": "text/x-python",
   "name": "python",
   "nbconvert_exporter": "python",
   "pygments_lexer": "ipython3",
   "version": "3.13.1"
  }
 },
 "nbformat": 4,
 "nbformat_minor": 2
}
