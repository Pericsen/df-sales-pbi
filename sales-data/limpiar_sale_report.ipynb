{
 "cells": [
  {
   "cell_type": "code",
   "execution_count": 27,
   "metadata": {},
   "outputs": [],
   "source": [
    "import pandas as pd"
   ]
  },
  {
   "cell_type": "code",
   "execution_count": 28,
   "metadata": {},
   "outputs": [
    {
     "name": "stderr",
     "output_type": "stream",
     "text": [
      "C:\\Users\\peric\\AppData\\Local\\Temp\\ipykernel_23688\\652367067.py:1: DtypeWarning: Columns (23) have mixed types. Specify dtype option on import or set low_memory=False.\n",
      "  df = pd.read_csv(\"Amazon Sale Report.csv\")\n"
     ]
    }
   ],
   "source": [
    "df = pd.read_csv(\"Amazon Sale Report.csv\")"
   ]
  },
  {
   "cell_type": "code",
   "execution_count": 29,
   "metadata": {},
   "outputs": [
    {
     "data": {
      "text/plain": [
       "Index(['index', 'Order ID', 'Date', 'Status', 'Fulfilment', 'Sales Channel ',\n",
       "       'ship-service-level', 'Style', 'SKU', 'Category', 'Size', 'ASIN',\n",
       "       'Courier Status', 'Qty', 'currency', 'Amount', 'ship-city',\n",
       "       'ship-state', 'ship-postal-code', 'ship-country', 'promotion-ids',\n",
       "       'B2B', 'fulfilled-by', 'Unnamed: 22'],\n",
       "      dtype='object')"
      ]
     },
     "execution_count": 29,
     "metadata": {},
     "output_type": "execute_result"
    }
   ],
   "source": [
    "df.columns"
   ]
  },
  {
   "cell_type": "code",
   "execution_count": 30,
   "metadata": {},
   "outputs": [],
   "source": [
    "df['Amount_EUR'] = df['Amount']*0.011"
   ]
  },
  {
   "cell_type": "code",
   "execution_count": 31,
   "metadata": {},
   "outputs": [],
   "source": [
    "def hash_asin(asin):\n",
    "    return abs(hash(asin)) % 11  # Genera un valor entre 0 y 10\n",
    "\n",
    "# 📌 Calcular COGS Unitario (35% - 45% del precio unitario)\n",
    "df[\"COGS Unit\"] = ((df[\"Amount_EUR\"] / df[\"Qty\"]) * (0.35 + (df[\"ASIN\"].apply(hash_asin) / 100))).round(2)\n",
    "\n",
    "# 📌 Calcular COGS Total\n",
    "df[\"COGS\"] = df[\"COGS Unit\"] * df[\"Qty\"]\n",
    "\n",
    "# 📌 Calcular Other Expenses (15% - 25% del Amount_EUR)\n",
    "df[\"Other Expenses\"] = (df[\"Amount_EUR\"] * (0.15 + (df[\"ASIN\"].apply(hash_asin) / 100))).round(2)\n",
    "\n",
    "# 📌 Calcular Gross Profit\n",
    "df[\"Gross Profit\"] = df[\"Amount_EUR\"] - df[\"COGS\"]\n",
    "\n",
    "# 📌 Calcular Net Profit\n",
    "df[\"Net Profit\"] = df[\"Gross Profit\"] - df[\"Other Expenses\"]"
   ]
  },
  {
   "cell_type": "code",
   "execution_count": 32,
   "metadata": {},
   "outputs": [
    {
     "data": {
      "text/plain": [
       "Index(['index', 'Order ID', 'Date', 'Status', 'Fulfilment', 'Sales Channel ',\n",
       "       'ship-service-level', 'Style', 'SKU', 'Category', 'Size', 'ASIN',\n",
       "       'Courier Status', 'Qty', 'currency', 'Amount', 'ship-city',\n",
       "       'ship-state', 'ship-postal-code', 'ship-country', 'promotion-ids',\n",
       "       'B2B', 'fulfilled-by', 'Unnamed: 22', 'Amount_EUR', 'COGS Unit', 'COGS',\n",
       "       'Other Expenses', 'Gross Profit', 'Net Profit'],\n",
       "      dtype='object')"
      ]
     },
     "execution_count": 32,
     "metadata": {},
     "output_type": "execute_result"
    }
   ],
   "source": [
    "df.columns"
   ]
  },
  {
   "cell_type": "code",
   "execution_count": 33,
   "metadata": {},
   "outputs": [
    {
     "data": {
      "text/html": [
       "<div>\n",
       "<style scoped>\n",
       "    .dataframe tbody tr th:only-of-type {\n",
       "        vertical-align: middle;\n",
       "    }\n",
       "\n",
       "    .dataframe tbody tr th {\n",
       "        vertical-align: top;\n",
       "    }\n",
       "\n",
       "    .dataframe thead th {\n",
       "        text-align: right;\n",
       "    }\n",
       "</style>\n",
       "<table border=\"1\" class=\"dataframe\">\n",
       "  <thead>\n",
       "    <tr style=\"text-align: right;\">\n",
       "      <th></th>\n",
       "      <th>index</th>\n",
       "      <th>Qty</th>\n",
       "      <th>Amount</th>\n",
       "      <th>ship-postal-code</th>\n",
       "      <th>Amount_EUR</th>\n",
       "      <th>COGS Unit</th>\n",
       "      <th>COGS</th>\n",
       "      <th>Other Expenses</th>\n",
       "      <th>Gross Profit</th>\n",
       "      <th>Net Profit</th>\n",
       "    </tr>\n",
       "  </thead>\n",
       "  <tbody>\n",
       "    <tr>\n",
       "      <th>count</th>\n",
       "      <td>128975.000000</td>\n",
       "      <td>128975.000000</td>\n",
       "      <td>121180.000000</td>\n",
       "      <td>128942.000000</td>\n",
       "      <td>121180.000000</td>\n",
       "      <td>121180.00</td>\n",
       "      <td>116044.000000</td>\n",
       "      <td>121180.000000</td>\n",
       "      <td>116044.000000</td>\n",
       "      <td>116044.000000</td>\n",
       "    </tr>\n",
       "    <tr>\n",
       "      <th>mean</th>\n",
       "      <td>64487.000000</td>\n",
       "      <td>0.904431</td>\n",
       "      <td>648.561465</td>\n",
       "      <td>463966.236509</td>\n",
       "      <td>7.134176</td>\n",
       "      <td>inf</td>\n",
       "      <td>2.865114</td>\n",
       "      <td>1.432733</td>\n",
       "      <td>4.282413</td>\n",
       "      <td>2.846766</td>\n",
       "    </tr>\n",
       "    <tr>\n",
       "      <th>std</th>\n",
       "      <td>37232.019822</td>\n",
       "      <td>0.313354</td>\n",
       "      <td>281.211687</td>\n",
       "      <td>191476.764941</td>\n",
       "      <td>3.093329</td>\n",
       "      <td>NaN</td>\n",
       "      <td>1.276484</td>\n",
       "      <td>0.674196</td>\n",
       "      <td>1.874103</td>\n",
       "      <td>1.325533</td>\n",
       "    </tr>\n",
       "    <tr>\n",
       "      <th>min</th>\n",
       "      <td>0.000000</td>\n",
       "      <td>0.000000</td>\n",
       "      <td>0.000000</td>\n",
       "      <td>110001.000000</td>\n",
       "      <td>0.000000</td>\n",
       "      <td>0.00</td>\n",
       "      <td>0.000000</td>\n",
       "      <td>0.000000</td>\n",
       "      <td>0.000000</td>\n",
       "      <td>0.000000</td>\n",
       "    </tr>\n",
       "    <tr>\n",
       "      <th>25%</th>\n",
       "      <td>32243.500000</td>\n",
       "      <td>1.000000</td>\n",
       "      <td>449.000000</td>\n",
       "      <td>382421.000000</td>\n",
       "      <td>4.939000</td>\n",
       "      <td>1.97</td>\n",
       "      <td>1.930000</td>\n",
       "      <td>0.960000</td>\n",
       "      <td>2.947000</td>\n",
       "      <td>1.927000</td>\n",
       "    </tr>\n",
       "    <tr>\n",
       "      <th>50%</th>\n",
       "      <td>64487.000000</td>\n",
       "      <td>1.000000</td>\n",
       "      <td>605.000000</td>\n",
       "      <td>500033.000000</td>\n",
       "      <td>6.655000</td>\n",
       "      <td>2.73</td>\n",
       "      <td>2.680000</td>\n",
       "      <td>1.310000</td>\n",
       "      <td>3.988000</td>\n",
       "      <td>2.617000</td>\n",
       "    </tr>\n",
       "    <tr>\n",
       "      <th>75%</th>\n",
       "      <td>96730.500000</td>\n",
       "      <td>1.000000</td>\n",
       "      <td>788.000000</td>\n",
       "      <td>600024.000000</td>\n",
       "      <td>8.668000</td>\n",
       "      <td>3.65</td>\n",
       "      <td>3.500000</td>\n",
       "      <td>1.780000</td>\n",
       "      <td>5.252000</td>\n",
       "      <td>3.556000</td>\n",
       "    </tr>\n",
       "    <tr>\n",
       "      <th>max</th>\n",
       "      <td>128974.000000</td>\n",
       "      <td>15.000000</td>\n",
       "      <td>5584.000000</td>\n",
       "      <td>989898.000000</td>\n",
       "      <td>61.424000</td>\n",
       "      <td>inf</td>\n",
       "      <td>25.400000</td>\n",
       "      <td>13.300000</td>\n",
       "      <td>39.344000</td>\n",
       "      <td>29.514000</td>\n",
       "    </tr>\n",
       "  </tbody>\n",
       "</table>\n",
       "</div>"
      ],
      "text/plain": [
       "               index            Qty         Amount  ship-postal-code  \\\n",
       "count  128975.000000  128975.000000  121180.000000     128942.000000   \n",
       "mean    64487.000000       0.904431     648.561465     463966.236509   \n",
       "std     37232.019822       0.313354     281.211687     191476.764941   \n",
       "min         0.000000       0.000000       0.000000     110001.000000   \n",
       "25%     32243.500000       1.000000     449.000000     382421.000000   \n",
       "50%     64487.000000       1.000000     605.000000     500033.000000   \n",
       "75%     96730.500000       1.000000     788.000000     600024.000000   \n",
       "max    128974.000000      15.000000    5584.000000     989898.000000   \n",
       "\n",
       "          Amount_EUR  COGS Unit           COGS  Other Expenses   Gross Profit  \\\n",
       "count  121180.000000  121180.00  116044.000000   121180.000000  116044.000000   \n",
       "mean        7.134176        inf       2.865114        1.432733       4.282413   \n",
       "std         3.093329        NaN       1.276484        0.674196       1.874103   \n",
       "min         0.000000       0.00       0.000000        0.000000       0.000000   \n",
       "25%         4.939000       1.97       1.930000        0.960000       2.947000   \n",
       "50%         6.655000       2.73       2.680000        1.310000       3.988000   \n",
       "75%         8.668000       3.65       3.500000        1.780000       5.252000   \n",
       "max        61.424000        inf      25.400000       13.300000      39.344000   \n",
       "\n",
       "          Net Profit  \n",
       "count  116044.000000  \n",
       "mean        2.846766  \n",
       "std         1.325533  \n",
       "min         0.000000  \n",
       "25%         1.927000  \n",
       "50%         2.617000  \n",
       "75%         3.556000  \n",
       "max        29.514000  "
      ]
     },
     "execution_count": 33,
     "metadata": {},
     "output_type": "execute_result"
    }
   ],
   "source": [
    "df.describe()"
   ]
  },
  {
   "cell_type": "code",
   "execution_count": null,
   "metadata": {},
   "outputs": [],
   "source": []
  },
  {
   "cell_type": "code",
   "execution_count": 34,
   "metadata": {},
   "outputs": [],
   "source": [
    "df.drop(columns=[\"index\", \"Unnamed: 22\"], inplace=True)"
   ]
  },
  {
   "cell_type": "code",
   "execution_count": 37,
   "metadata": {},
   "outputs": [
    {
     "data": {
      "text/plain": [
       "61.424"
      ]
     },
     "execution_count": 37,
     "metadata": {},
     "output_type": "execute_result"
    }
   ],
   "source": [
    "df['Amount_EUR'].max()"
   ]
  },
  {
   "cell_type": "code",
   "execution_count": 35,
   "metadata": {},
   "outputs": [],
   "source": [
    "df.to_csv(\"amazon-sale-report-clean.csv\", index=False)"
   ]
  }
 ],
 "metadata": {
  "kernelspec": {
   "display_name": "sanisi-env",
   "language": "python",
   "name": "python3"
  },
  "language_info": {
   "codemirror_mode": {
    "name": "ipython",
    "version": 3
   },
   "file_extension": ".py",
   "mimetype": "text/x-python",
   "name": "python",
   "nbconvert_exporter": "python",
   "pygments_lexer": "ipython3",
   "version": "3.13.1"
  }
 },
 "nbformat": 4,
 "nbformat_minor": 2
}
