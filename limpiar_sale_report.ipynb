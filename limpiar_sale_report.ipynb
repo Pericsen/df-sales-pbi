{
 "cells": [
  {
   "cell_type": "code",
   "execution_count": 4,
   "metadata": {},
   "outputs": [],
   "source": [
    "import pandas as pd\n",
    "import numpy as np"
   ]
  },
  {
   "cell_type": "code",
   "execution_count": 5,
   "metadata": {},
   "outputs": [
    {
     "name": "stderr",
     "output_type": "stream",
     "text": [
      "C:\\Users\\peric\\AppData\\Local\\Temp\\ipykernel_10944\\469468274.py:1: DtypeWarning: Columns (23) have mixed types. Specify dtype option on import or set low_memory=False.\n",
      "  df = pd.read_csv(\"./sales-data/Amazon Sale Report.csv\")\n"
     ]
    }
   ],
   "source": [
    "df = pd.read_csv(\"./sales-data/Amazon Sale Report.csv\")"
   ]
  },
  {
   "cell_type": "code",
   "execution_count": 6,
   "metadata": {},
   "outputs": [
    {
     "data": {
      "text/plain": [
       "Index(['index', 'Order ID', 'Date', 'Status', 'Fulfilment', 'Sales Channel ',\n",
       "       'ship-service-level', 'Style', 'SKU', 'Category', 'Size', 'ASIN',\n",
       "       'Courier Status', 'Qty', 'currency', 'Amount', 'ship-city',\n",
       "       'ship-state', 'ship-postal-code', 'ship-country', 'promotion-ids',\n",
       "       'B2B', 'fulfilled-by', 'Unnamed: 22'],\n",
       "      dtype='object')"
      ]
     },
     "execution_count": 6,
     "metadata": {},
     "output_type": "execute_result"
    }
   ],
   "source": [
    "df.columns"
   ]
  },
  {
   "cell_type": "code",
   "execution_count": 7,
   "metadata": {},
   "outputs": [],
   "source": [
    "df['Amount_EUR'] = df['Amount']*0.011"
   ]
  },
  {
   "cell_type": "code",
   "execution_count": 8,
   "metadata": {},
   "outputs": [
    {
     "name": "stderr",
     "output_type": "stream",
     "text": [
      "C:\\Users\\peric\\AppData\\Local\\Temp\\ipykernel_10944\\3939793250.py:1: UserWarning: Could not infer format, so each element will be parsed individually, falling back to `dateutil`. To ensure parsing is consistent and as-expected, please specify a format.\n",
      "  df['Date'] = pd.to_datetime(df['Date'], errors='coerce')\n"
     ]
    }
   ],
   "source": [
    "df['Date'] = pd.to_datetime(df['Date'], errors='coerce')\n",
    "\n",
    "# Crear una copia del dataframe original\n",
    "df = df.copy()\n",
    "\n",
    "# Duplicar datos hacia atrás hasta 2020\n",
    "for años_atras in range(1, 3):  # 1 año atrás (2021), 2 años atrás (2020)\n",
    "    nuevo_df = df.copy()\n",
    "    nuevo_df['Date'] = nuevo_df['Date'] - pd.DateOffset(years=años_atras)\n",
    "\n",
    "    # Reducir 'Qty' en 1 o 2 unidades si es mayor a 0\n",
    "    nuevo_df['Qty'] = nuevo_df['Qty'].apply(lambda x: max(0, x - np.random.randint(1, 3)) if x > 0 else x)\n",
    "\n",
    "    # Reducir 'Amount' y 'Amount_EUR' en un 10-15%\n",
    "    factor_reduccion = np.random.uniform(0.85, 0.90)  # Reduce entre 10-15%\n",
    "    for col in ['Amount', 'Amount_EUR']:\n",
    "        if col in nuevo_df.columns:\n",
    "            nuevo_df[col] = nuevo_df[col] * factor_reduccion\n",
    "\n",
    "    # Agregar los datos generados al dataset expandido\n",
    "    df = pd.concat([df, nuevo_df], ignore_index=True)\n",
    "\n",
    "# Guardar el nuevo dataset con datos hasta 2020\n",
    "# df_expanded.to_excel(\"dataset_expandido_hasta_2020.xlsx\", index=False)"
   ]
  },
  {
   "cell_type": "markdown",
   "metadata": {},
   "source": [
    "Agregar metricas que faltaban \n",
    "@NICO falta hacer que estas metricas afecten al df con los datos historicos"
   ]
  },
  {
   "cell_type": "code",
   "execution_count": 9,
   "metadata": {},
   "outputs": [],
   "source": [
    "def hash_asin(asin):\n",
    "    return abs(hash(asin)) % 11  # Genera un valor entre 0 y 10\n",
    "\n",
    "# 📌 Calcular COGS Unitario (35% - 45% del precio unitario)\n",
    "df[\"COGS Unit\"] = ((df[\"Amount_EUR\"] / df[\"Qty\"]) * (0.35 + (df[\"ASIN\"].apply(hash_asin) / 100))).round(2)\n",
    "\n",
    "# 📌 Calcular COGS Total\n",
    "df[\"COGS\"] = df[\"COGS Unit\"] * df[\"Qty\"]\n",
    "\n",
    "# 📌 Calcular Other Expenses (15% - 25% del Amount_EUR)\n",
    "df[\"Other Expenses\"] = (df[\"Amount_EUR\"] * (0.15 + (df[\"ASIN\"].apply(hash_asin) / 100))).round(2)\n",
    "\n",
    "# 📌 Calcular Gross Profit\n",
    "df[\"Gross Profit\"] = df[\"Amount_EUR\"] - df[\"COGS\"]\n",
    "\n",
    "# 📌 Calcular Net Profit\n",
    "df[\"Net Profit\"] = df[\"Gross Profit\"] - df[\"Other Expenses\"]"
   ]
  },
  {
   "cell_type": "code",
   "execution_count": 10,
   "metadata": {},
   "outputs": [
    {
     "data": {
      "text/plain": [
       "Index(['index', 'Order ID', 'Date', 'Status', 'Fulfilment', 'Sales Channel ',\n",
       "       'ship-service-level', 'Style', 'SKU', 'Category', 'Size', 'ASIN',\n",
       "       'Courier Status', 'Qty', 'currency', 'Amount', 'ship-city',\n",
       "       'ship-state', 'ship-postal-code', 'ship-country', 'promotion-ids',\n",
       "       'B2B', 'fulfilled-by', 'Unnamed: 22', 'Amount_EUR', 'COGS Unit', 'COGS',\n",
       "       'Other Expenses', 'Gross Profit', 'Net Profit'],\n",
       "      dtype='object')"
      ]
     },
     "execution_count": 10,
     "metadata": {},
     "output_type": "execute_result"
    }
   ],
   "source": [
    "df.columns"
   ]
  },
  {
   "cell_type": "code",
   "execution_count": 11,
   "metadata": {},
   "outputs": [
    {
     "name": "stderr",
     "output_type": "stream",
     "text": [
      "c:\\Users\\peric\\anaconda3\\envs\\sanisi-env\\Lib\\site-packages\\numpy\\lib\\_function_base_impl.py:4653: RuntimeWarning: invalid value encountered in subtract\n",
      "  diff_b_a = subtract(b, a)\n"
     ]
    },
    {
     "data": {
      "text/html": [
       "<div>\n",
       "<style scoped>\n",
       "    .dataframe tbody tr th:only-of-type {\n",
       "        vertical-align: middle;\n",
       "    }\n",
       "\n",
       "    .dataframe tbody tr th {\n",
       "        vertical-align: top;\n",
       "    }\n",
       "\n",
       "    .dataframe thead th {\n",
       "        text-align: right;\n",
       "    }\n",
       "</style>\n",
       "<table border=\"1\" class=\"dataframe\">\n",
       "  <thead>\n",
       "    <tr style=\"text-align: right;\">\n",
       "      <th></th>\n",
       "      <th>index</th>\n",
       "      <th>Date</th>\n",
       "      <th>Qty</th>\n",
       "      <th>Amount</th>\n",
       "      <th>ship-postal-code</th>\n",
       "      <th>Amount_EUR</th>\n",
       "      <th>COGS Unit</th>\n",
       "      <th>COGS</th>\n",
       "      <th>Other Expenses</th>\n",
       "      <th>Gross Profit</th>\n",
       "      <th>Net Profit</th>\n",
       "    </tr>\n",
       "  </thead>\n",
       "  <tbody>\n",
       "    <tr>\n",
       "      <th>count</th>\n",
       "      <td>515900.000000</td>\n",
       "      <td>515900</td>\n",
       "      <td>515900.000000</td>\n",
       "      <td>484720.000000</td>\n",
       "      <td>515768.000000</td>\n",
       "      <td>484720.000000</td>\n",
       "      <td>477691.0</td>\n",
       "      <td>116479.000000</td>\n",
       "      <td>484720.000000</td>\n",
       "      <td>116479.000000</td>\n",
       "      <td>116479.000000</td>\n",
       "    </tr>\n",
       "    <tr>\n",
       "      <th>mean</th>\n",
       "      <td>64487.000000</td>\n",
       "      <td>2020-11-10 17:49:27.951928832</td>\n",
       "      <td>0.227311</td>\n",
       "      <td>568.548176</td>\n",
       "      <td>463966.236509</td>\n",
       "      <td>6.254030</td>\n",
       "      <td>inf</td>\n",
       "      <td>2.867849</td>\n",
       "      <td>1.250844</td>\n",
       "      <td>4.301499</td>\n",
       "      <td>2.867528</td>\n",
       "    </tr>\n",
       "    <tr>\n",
       "      <th>min</th>\n",
       "      <td>0.000000</td>\n",
       "      <td>2019-03-31 00:00:00</td>\n",
       "      <td>0.000000</td>\n",
       "      <td>0.000000</td>\n",
       "      <td>110001.000000</td>\n",
       "      <td>0.000000</td>\n",
       "      <td>0.0</td>\n",
       "      <td>0.000000</td>\n",
       "      <td>0.000000</td>\n",
       "      <td>0.000000</td>\n",
       "      <td>0.000000</td>\n",
       "    </tr>\n",
       "    <tr>\n",
       "      <th>25%</th>\n",
       "      <td>32243.000000</td>\n",
       "      <td>2020-01-22 00:00:00</td>\n",
       "      <td>0.000000</td>\n",
       "      <td>387.000000</td>\n",
       "      <td>382421.000000</td>\n",
       "      <td>4.257000</td>\n",
       "      <td>NaN</td>\n",
       "      <td>1.960000</td>\n",
       "      <td>0.830000</td>\n",
       "      <td>2.947000</td>\n",
       "      <td>1.926000</td>\n",
       "    </tr>\n",
       "    <tr>\n",
       "      <th>50%</th>\n",
       "      <td>64487.000000</td>\n",
       "      <td>2020-11-13 12:00:00</td>\n",
       "      <td>0.000000</td>\n",
       "      <td>526.856601</td>\n",
       "      <td>500033.000000</td>\n",
       "      <td>5.795423</td>\n",
       "      <td>NaN</td>\n",
       "      <td>2.650000</td>\n",
       "      <td>1.130000</td>\n",
       "      <td>4.023000</td>\n",
       "      <td>2.629000</td>\n",
       "    </tr>\n",
       "    <tr>\n",
       "      <th>75%</th>\n",
       "      <td>96731.000000</td>\n",
       "      <td>2021-09-05 18:00:00</td>\n",
       "      <td>0.000000</td>\n",
       "      <td>695.617263</td>\n",
       "      <td>600024.000000</td>\n",
       "      <td>7.651790</td>\n",
       "      <td>NaN</td>\n",
       "      <td>3.520000</td>\n",
       "      <td>1.560000</td>\n",
       "      <td>5.261000</td>\n",
       "      <td>3.617000</td>\n",
       "    </tr>\n",
       "    <tr>\n",
       "      <th>max</th>\n",
       "      <td>128974.000000</td>\n",
       "      <td>2022-06-29 00:00:00</td>\n",
       "      <td>15.000000</td>\n",
       "      <td>5584.000000</td>\n",
       "      <td>989898.000000</td>\n",
       "      <td>61.424000</td>\n",
       "      <td>inf</td>\n",
       "      <td>22.950000</td>\n",
       "      <td>10.880000</td>\n",
       "      <td>38.704000</td>\n",
       "      <td>28.264000</td>\n",
       "    </tr>\n",
       "    <tr>\n",
       "      <th>std</th>\n",
       "      <td>37231.911568</td>\n",
       "      <td>NaN</td>\n",
       "      <td>0.425335</td>\n",
       "      <td>253.669669</td>\n",
       "      <td>191476.208071</td>\n",
       "      <td>2.790366</td>\n",
       "      <td>NaN</td>\n",
       "      <td>1.294770</td>\n",
       "      <td>0.608096</td>\n",
       "      <td>1.897028</td>\n",
       "      <td>1.336707</td>\n",
       "    </tr>\n",
       "  </tbody>\n",
       "</table>\n",
       "</div>"
      ],
      "text/plain": [
       "               index                           Date            Qty  \\\n",
       "count  515900.000000                         515900  515900.000000   \n",
       "mean    64487.000000  2020-11-10 17:49:27.951928832       0.227311   \n",
       "min         0.000000            2019-03-31 00:00:00       0.000000   \n",
       "25%     32243.000000            2020-01-22 00:00:00       0.000000   \n",
       "50%     64487.000000            2020-11-13 12:00:00       0.000000   \n",
       "75%     96731.000000            2021-09-05 18:00:00       0.000000   \n",
       "max    128974.000000            2022-06-29 00:00:00      15.000000   \n",
       "std     37231.911568                            NaN       0.425335   \n",
       "\n",
       "              Amount  ship-postal-code     Amount_EUR  COGS Unit  \\\n",
       "count  484720.000000     515768.000000  484720.000000   477691.0   \n",
       "mean      568.548176     463966.236509       6.254030        inf   \n",
       "min         0.000000     110001.000000       0.000000        0.0   \n",
       "25%       387.000000     382421.000000       4.257000        NaN   \n",
       "50%       526.856601     500033.000000       5.795423        NaN   \n",
       "75%       695.617263     600024.000000       7.651790        NaN   \n",
       "max      5584.000000     989898.000000      61.424000        inf   \n",
       "std       253.669669     191476.208071       2.790366        NaN   \n",
       "\n",
       "                COGS  Other Expenses   Gross Profit     Net Profit  \n",
       "count  116479.000000   484720.000000  116479.000000  116479.000000  \n",
       "mean        2.867849        1.250844       4.301499       2.867528  \n",
       "min         0.000000        0.000000       0.000000       0.000000  \n",
       "25%         1.960000        0.830000       2.947000       1.926000  \n",
       "50%         2.650000        1.130000       4.023000       2.629000  \n",
       "75%         3.520000        1.560000       5.261000       3.617000  \n",
       "max        22.950000       10.880000      38.704000      28.264000  \n",
       "std         1.294770        0.608096       1.897028       1.336707  "
      ]
     },
     "execution_count": 11,
     "metadata": {},
     "output_type": "execute_result"
    }
   ],
   "source": [
    "df.describe()"
   ]
  },
  {
   "cell_type": "code",
   "execution_count": 12,
   "metadata": {},
   "outputs": [],
   "source": [
    "df.drop(columns=[\"index\", \"Unnamed: 22\"], inplace=True)"
   ]
  },
  {
   "cell_type": "code",
   "execution_count": 13,
   "metadata": {},
   "outputs": [
    {
     "data": {
      "text/plain": [
       "61.424"
      ]
     },
     "execution_count": 13,
     "metadata": {},
     "output_type": "execute_result"
    }
   ],
   "source": [
    "df['Amount_EUR'].max()"
   ]
  },
  {
   "cell_type": "markdown",
   "metadata": {},
   "source": [
    "### Agregador de Data Historica"
   ]
  },
  {
   "cell_type": "code",
   "execution_count": 14,
   "metadata": {},
   "outputs": [
    {
     "name": "stdout",
     "output_type": "stream",
     "text": [
      "Rango de fechas: 2019-03-31 00:00:00 - 2022-06-29 00:00:00\n"
     ]
    }
   ],
   "source": [
    "min_date = df['Date'].min()\n",
    "max_date = df['Date'].max()\n",
    "print(f\"Rango de fechas: {min_date} - {max_date}\")"
   ]
  },
  {
   "cell_type": "markdown",
   "metadata": {},
   "source": [
    "### Descargar Archivo"
   ]
  },
  {
   "cell_type": "code",
   "execution_count": 15,
   "metadata": {},
   "outputs": [],
   "source": [
    "df.to_csv(\"./sales-data/amazon-sale-report-clean.csv\", index=False)"
   ]
  }
 ],
 "metadata": {
  "kernelspec": {
   "display_name": "sanisi-env",
   "language": "python",
   "name": "python3"
  },
  "language_info": {
   "codemirror_mode": {
    "name": "ipython",
    "version": 3
   },
   "file_extension": ".py",
   "mimetype": "text/x-python",
   "name": "python",
   "nbconvert_exporter": "python",
   "pygments_lexer": "ipython3",
   "version": "3.13.1"
  }
 },
 "nbformat": 4,
 "nbformat_minor": 2
}
