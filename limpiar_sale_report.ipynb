{
 "cells": [
  {
   "cell_type": "code",
   "execution_count": 18,
   "metadata": {},
   "outputs": [],
   "source": [
    "import pandas as pd\n",
    "import numpy as np"
   ]
  },
  {
   "cell_type": "code",
   "execution_count": 14,
   "metadata": {},
   "outputs": [
    {
     "name": "stderr",
     "output_type": "stream",
     "text": [
      "C:\\Users\\sebas\\AppData\\Local\\Temp\\ipykernel_15492\\1168129.py:1: DtypeWarning: Columns (23) have mixed types. Specify dtype option on import or set low_memory=False.\n",
      "  df = pd.read_csv(r\"C:\\Users\\sebas\\OneDrive\\Documentos\\Datafalcons\\df-sales-pbi-main\\sales-data\\Amazon Sale Report.csv\")\n"
     ]
    }
   ],
   "source": [
    "df = pd.read_csv(r\"C:\\Users\\sebas\\OneDrive\\Documentos\\Datafalcons\\df-sales-pbi-main\\sales-data\\Amazon Sale Report.csv\")"
   ]
  },
  {
   "cell_type": "code",
   "execution_count": 15,
   "metadata": {},
   "outputs": [
    {
     "data": {
      "text/plain": [
       "Index(['index', 'Order ID', 'Date', 'Status', 'Fulfilment', 'Sales Channel ',\n",
       "       'ship-service-level', 'Style', 'SKU', 'Category', 'Size', 'ASIN',\n",
       "       'Courier Status', 'Qty', 'currency', 'Amount', 'ship-city',\n",
       "       'ship-state', 'ship-postal-code', 'ship-country', 'promotion-ids',\n",
       "       'B2B', 'fulfilled-by', 'Unnamed: 22'],\n",
       "      dtype='object')"
      ]
     },
     "execution_count": 15,
     "metadata": {},
     "output_type": "execute_result"
    }
   ],
   "source": [
    "df.columns"
   ]
  },
  {
   "cell_type": "code",
   "execution_count": 16,
   "metadata": {},
   "outputs": [],
   "source": [
    "df['Amount_EUR'] = df['Amount']*0.011"
   ]
  },
  {
   "cell_type": "code",
   "execution_count": 20,
   "metadata": {},
   "outputs": [],
   "source": [
    "df['Date'] = pd.to_datetime(df['Date'], errors='coerce')\n",
    "\n",
    "# Crear una copia del dataframe original\n",
    "df_expanded = df.copy()\n",
    "\n",
    "# Duplicar datos hacia atrás hasta 2020\n",
    "for años_atras in range(1, 3):  # 1 año atrás (2021), 2 años atrás (2020)\n",
    "    nuevo_df = df.copy()\n",
    "    nuevo_df['Date'] = nuevo_df['Date'] - pd.DateOffset(years=años_atras)\n",
    "\n",
    "    # Reducir 'Qty' en 1 o 2 unidades si es mayor a 0\n",
    "    nuevo_df['Qty'] = nuevo_df['Qty'].apply(lambda x: max(0, x - np.random.randint(1, 3)) if x > 0 else x)\n",
    "\n",
    "    # Reducir 'Amount' y 'Amount_EUR' en un 10-15%\n",
    "    factor_reduccion = np.random.uniform(0.85, 0.90)  # Reduce entre 10-15%\n",
    "    for col in ['Amount', 'Amount_EUR']:\n",
    "        if col in nuevo_df.columns:\n",
    "            nuevo_df[col] = nuevo_df[col] * factor_reduccion\n",
    "\n",
    "    # Agregar los datos generados al dataset expandido\n",
    "    df_expanded = pd.concat([df_expanded, nuevo_df], ignore_index=True)\n",
    "\n",
    "# Guardar el nuevo dataset con datos hasta 2020\n",
    "df_expanded.to_excel(\"dataset_expandido_hasta_2020.xlsx\", index=False)"
   ]
  },
  {
   "cell_type": "markdown",
   "metadata": {},
   "source": [
    "Agregar metricas que faltaban \n",
    "@NICO falta hacer que estas metricas afecten al df con los datos historicos"
   ]
  },
  {
   "cell_type": "code",
   "execution_count": 6,
   "metadata": {},
   "outputs": [],
   "source": [
    "def hash_asin(asin):\n",
    "    return abs(hash(asin)) % 11  # Genera un valor entre 0 y 10\n",
    "\n",
    "# 📌 Calcular COGS Unitario (35% - 45% del precio unitario)\n",
    "df[\"COGS Unit\"] = ((df[\"Amount_EUR\"] / df[\"Qty\"]) * (0.35 + (df[\"ASIN\"].apply(hash_asin) / 100))).round(2)\n",
    "\n",
    "# 📌 Calcular COGS Total\n",
    "df[\"COGS\"] = df[\"COGS Unit\"] * df[\"Qty\"]\n",
    "\n",
    "# 📌 Calcular Other Expenses (15% - 25% del Amount_EUR)\n",
    "df[\"Other Expenses\"] = (df[\"Amount_EUR\"] * (0.15 + (df[\"ASIN\"].apply(hash_asin) / 100))).round(2)\n",
    "\n",
    "# 📌 Calcular Gross Profit\n",
    "df[\"Gross Profit\"] = df[\"Amount_EUR\"] - df[\"COGS\"]\n",
    "\n",
    "# 📌 Calcular Net Profit\n",
    "df[\"Net Profit\"] = df[\"Gross Profit\"] - df[\"Other Expenses\"]"
   ]
  },
  {
   "cell_type": "code",
   "execution_count": 7,
   "metadata": {},
   "outputs": [
    {
     "data": {
      "text/plain": [
       "Index(['index', 'Order ID', 'Date', 'Status', 'Fulfilment', 'Sales Channel ',\n",
       "       'ship-service-level', 'Style', 'SKU', 'Category', 'Size', 'ASIN',\n",
       "       'Courier Status', 'Qty', 'currency', 'Amount', 'ship-city',\n",
       "       'ship-state', 'ship-postal-code', 'ship-country', 'promotion-ids',\n",
       "       'B2B', 'fulfilled-by', 'Unnamed: 22', 'Amount_EUR', 'COGS Unit', 'COGS',\n",
       "       'Other Expenses', 'Gross Profit', 'Net Profit'],\n",
       "      dtype='object')"
      ]
     },
     "execution_count": 7,
     "metadata": {},
     "output_type": "execute_result"
    }
   ],
   "source": [
    "df.columns"
   ]
  },
  {
   "cell_type": "code",
   "execution_count": 9,
   "metadata": {},
   "outputs": [
    {
     "name": "stderr",
     "output_type": "stream",
     "text": [
      "C:\\Users\\sebas\\AppData\\Local\\Packages\\PythonSoftwareFoundation.Python.3.13_qbz5n2kfra8p0\\LocalCache\\local-packages\\Python313\\site-packages\\pandas\\core\\nanops.py:1016: RuntimeWarning: invalid value encountered in subtract\n",
      "  sqr = _ensure_numeric((avg - values) ** 2)\n"
     ]
    },
    {
     "data": {
      "text/html": [
       "<div>\n",
       "<style scoped>\n",
       "    .dataframe tbody tr th:only-of-type {\n",
       "        vertical-align: middle;\n",
       "    }\n",
       "\n",
       "    .dataframe tbody tr th {\n",
       "        vertical-align: top;\n",
       "    }\n",
       "\n",
       "    .dataframe thead th {\n",
       "        text-align: right;\n",
       "    }\n",
       "</style>\n",
       "<table border=\"1\" class=\"dataframe\">\n",
       "  <thead>\n",
       "    <tr style=\"text-align: right;\">\n",
       "      <th></th>\n",
       "      <th>index</th>\n",
       "      <th>Qty</th>\n",
       "      <th>Amount</th>\n",
       "      <th>ship-postal-code</th>\n",
       "      <th>Amount_EUR</th>\n",
       "      <th>COGS Unit</th>\n",
       "      <th>COGS</th>\n",
       "      <th>Other Expenses</th>\n",
       "      <th>Gross Profit</th>\n",
       "      <th>Net Profit</th>\n",
       "    </tr>\n",
       "  </thead>\n",
       "  <tbody>\n",
       "    <tr>\n",
       "      <th>count</th>\n",
       "      <td>128975.000000</td>\n",
       "      <td>128975.000000</td>\n",
       "      <td>121180.000000</td>\n",
       "      <td>128942.000000</td>\n",
       "      <td>121180.000000</td>\n",
       "      <td>121180.00</td>\n",
       "      <td>116044.000000</td>\n",
       "      <td>121180.000000</td>\n",
       "      <td>116044.000000</td>\n",
       "      <td>116044.000000</td>\n",
       "    </tr>\n",
       "    <tr>\n",
       "      <th>mean</th>\n",
       "      <td>64487.000000</td>\n",
       "      <td>0.904431</td>\n",
       "      <td>648.561465</td>\n",
       "      <td>463966.236509</td>\n",
       "      <td>7.134176</td>\n",
       "      <td>inf</td>\n",
       "      <td>2.856858</td>\n",
       "      <td>1.424781</td>\n",
       "      <td>4.290669</td>\n",
       "      <td>2.863369</td>\n",
       "    </tr>\n",
       "    <tr>\n",
       "      <th>std</th>\n",
       "      <td>37232.019822</td>\n",
       "      <td>0.313354</td>\n",
       "      <td>281.211687</td>\n",
       "      <td>191476.764941</td>\n",
       "      <td>3.093329</td>\n",
       "      <td>NaN</td>\n",
       "      <td>1.257323</td>\n",
       "      <td>0.655352</td>\n",
       "      <td>1.890913</td>\n",
       "      <td>1.353204</td>\n",
       "    </tr>\n",
       "    <tr>\n",
       "      <th>min</th>\n",
       "      <td>0.000000</td>\n",
       "      <td>0.000000</td>\n",
       "      <td>0.000000</td>\n",
       "      <td>110001.000000</td>\n",
       "      <td>0.000000</td>\n",
       "      <td>0.00</td>\n",
       "      <td>0.000000</td>\n",
       "      <td>0.000000</td>\n",
       "      <td>0.000000</td>\n",
       "      <td>0.000000</td>\n",
       "    </tr>\n",
       "    <tr>\n",
       "      <th>25%</th>\n",
       "      <td>32243.500000</td>\n",
       "      <td>1.000000</td>\n",
       "      <td>449.000000</td>\n",
       "      <td>382421.000000</td>\n",
       "      <td>4.939000</td>\n",
       "      <td>1.98</td>\n",
       "      <td>1.960000</td>\n",
       "      <td>0.960000</td>\n",
       "      <td>2.925000</td>\n",
       "      <td>1.914000</td>\n",
       "    </tr>\n",
       "    <tr>\n",
       "      <th>50%</th>\n",
       "      <td>64487.000000</td>\n",
       "      <td>1.000000</td>\n",
       "      <td>605.000000</td>\n",
       "      <td>500033.000000</td>\n",
       "      <td>6.655000</td>\n",
       "      <td>2.74</td>\n",
       "      <td>2.680000</td>\n",
       "      <td>1.310000</td>\n",
       "      <td>4.019000</td>\n",
       "      <td>2.615000</td>\n",
       "    </tr>\n",
       "    <tr>\n",
       "      <th>75%</th>\n",
       "      <td>96730.500000</td>\n",
       "      <td>1.000000</td>\n",
       "      <td>788.000000</td>\n",
       "      <td>600024.000000</td>\n",
       "      <td>8.668000</td>\n",
       "      <td>3.64</td>\n",
       "      <td>3.510000</td>\n",
       "      <td>1.770000</td>\n",
       "      <td>5.255000</td>\n",
       "      <td>3.604000</td>\n",
       "    </tr>\n",
       "    <tr>\n",
       "      <th>max</th>\n",
       "      <td>128974.000000</td>\n",
       "      <td>15.000000</td>\n",
       "      <td>5584.000000</td>\n",
       "      <td>989898.000000</td>\n",
       "      <td>61.424000</td>\n",
       "      <td>inf</td>\n",
       "      <td>23.550000</td>\n",
       "      <td>11.480000</td>\n",
       "      <td>38.704000</td>\n",
       "      <td>28.264000</td>\n",
       "    </tr>\n",
       "  </tbody>\n",
       "</table>\n",
       "</div>"
      ],
      "text/plain": [
       "               index            Qty         Amount  ship-postal-code  \\\n",
       "count  128975.000000  128975.000000  121180.000000     128942.000000   \n",
       "mean    64487.000000       0.904431     648.561465     463966.236509   \n",
       "std     37232.019822       0.313354     281.211687     191476.764941   \n",
       "min         0.000000       0.000000       0.000000     110001.000000   \n",
       "25%     32243.500000       1.000000     449.000000     382421.000000   \n",
       "50%     64487.000000       1.000000     605.000000     500033.000000   \n",
       "75%     96730.500000       1.000000     788.000000     600024.000000   \n",
       "max    128974.000000      15.000000    5584.000000     989898.000000   \n",
       "\n",
       "          Amount_EUR  COGS Unit           COGS  Other Expenses   Gross Profit  \\\n",
       "count  121180.000000  121180.00  116044.000000   121180.000000  116044.000000   \n",
       "mean        7.134176        inf       2.856858        1.424781       4.290669   \n",
       "std         3.093329        NaN       1.257323        0.655352       1.890913   \n",
       "min         0.000000       0.00       0.000000        0.000000       0.000000   \n",
       "25%         4.939000       1.98       1.960000        0.960000       2.925000   \n",
       "50%         6.655000       2.74       2.680000        1.310000       4.019000   \n",
       "75%         8.668000       3.64       3.510000        1.770000       5.255000   \n",
       "max        61.424000        inf      23.550000       11.480000      38.704000   \n",
       "\n",
       "          Net Profit  \n",
       "count  116044.000000  \n",
       "mean        2.863369  \n",
       "std         1.353204  \n",
       "min         0.000000  \n",
       "25%         1.914000  \n",
       "50%         2.615000  \n",
       "75%         3.604000  \n",
       "max        28.264000  "
      ]
     },
     "execution_count": 9,
     "metadata": {},
     "output_type": "execute_result"
    }
   ],
   "source": [
    "df.describe()"
   ]
  },
  {
   "cell_type": "code",
   "execution_count": 10,
   "metadata": {},
   "outputs": [],
   "source": [
    "df.drop(columns=[\"index\", \"Unnamed: 22\"], inplace=True)"
   ]
  },
  {
   "cell_type": "code",
   "execution_count": 11,
   "metadata": {},
   "outputs": [
    {
     "data": {
      "text/plain": [
       "np.float64(61.424)"
      ]
     },
     "execution_count": 11,
     "metadata": {},
     "output_type": "execute_result"
    }
   ],
   "source": [
    "df['Amount_EUR'].max()"
   ]
  },
  {
   "cell_type": "markdown",
   "metadata": {},
   "source": [
    "### Agregador de Data Historica"
   ]
  },
  {
   "cell_type": "code",
   "execution_count": 12,
   "metadata": {},
   "outputs": [
    {
     "name": "stdout",
     "output_type": "stream",
     "text": [
      "Rango de fechas: 03-31-22 - 06-29-22\n"
     ]
    }
   ],
   "source": [
    "min_date = df['Date'].min()\n",
    "max_date = df['Date'].max()\n",
    "print(f\"Rango de fechas: {min_date} - {max_date}\")"
   ]
  },
  {
   "cell_type": "markdown",
   "metadata": {},
   "source": [
    "### Descargar Archivo"
   ]
  },
  {
   "cell_type": "code",
   "execution_count": 35,
   "metadata": {},
   "outputs": [],
   "source": [
    "df.to_csv(\"amazon-sale-report-clean.csv\", index=False)"
   ]
  }
 ],
 "metadata": {
  "kernelspec": {
   "display_name": "Python 3",
   "language": "python",
   "name": "python3"
  },
  "language_info": {
   "codemirror_mode": {
    "name": "ipython",
    "version": 3
   },
   "file_extension": ".py",
   "mimetype": "text/x-python",
   "name": "python",
   "nbconvert_exporter": "python",
   "pygments_lexer": "ipython3",
   "version": "3.13.1"
  }
 },
 "nbformat": 4,
 "nbformat_minor": 2
}
