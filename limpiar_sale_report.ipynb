{
 "cells": [
  {
   "cell_type": "code",
   "execution_count": 98,
   "metadata": {},
   "outputs": [],
   "source": [
    "import pandas as pd\n",
    "import numpy as np"
   ]
  },
  {
   "cell_type": "code",
   "execution_count": 99,
   "metadata": {},
   "outputs": [
    {
     "name": "stderr",
     "output_type": "stream",
     "text": [
      "C:\\Users\\peric\\AppData\\Local\\Temp\\ipykernel_10944\\469468274.py:1: DtypeWarning: Columns (23) have mixed types. Specify dtype option on import or set low_memory=False.\n",
      "  df = pd.read_csv(\"./sales-data/Amazon Sale Report.csv\")\n"
     ]
    }
   ],
   "source": [
    "df = pd.read_csv(\"./sales-data/Amazon Sale Report.csv\")"
   ]
  },
  {
   "cell_type": "code",
   "execution_count": 100,
   "metadata": {},
   "outputs": [
    {
     "data": {
      "text/plain": [
       "Index(['index', 'Order ID', 'Date', 'Status', 'Fulfilment', 'Sales Channel ',\n",
       "       'ship-service-level', 'Style', 'SKU', 'Category', 'Size', 'ASIN',\n",
       "       'Courier Status', 'Qty', 'currency', 'Amount', 'ship-city',\n",
       "       'ship-state', 'ship-postal-code', 'ship-country', 'promotion-ids',\n",
       "       'B2B', 'fulfilled-by', 'Unnamed: 22'],\n",
       "      dtype='object')"
      ]
     },
     "execution_count": 100,
     "metadata": {},
     "output_type": "execute_result"
    }
   ],
   "source": [
    "df.columns"
   ]
  },
  {
   "cell_type": "code",
   "execution_count": 101,
   "metadata": {},
   "outputs": [],
   "source": [
    "df['Amount_EUR'] = df['Amount']*0.011"
   ]
  },
  {
   "cell_type": "code",
   "execution_count": 102,
   "metadata": {},
   "outputs": [
    {
     "name": "stderr",
     "output_type": "stream",
     "text": [
      "C:\\Users\\peric\\AppData\\Local\\Temp\\ipykernel_10944\\3307097636.py:1: UserWarning: Could not infer format, so each element will be parsed individually, falling back to `dateutil`. To ensure parsing is consistent and as-expected, please specify a format.\n",
      "  df['Date'] = pd.to_datetime(df['Date'])  # Convertir la columna de Date\n"
     ]
    }
   ],
   "source": [
    "\n",
    "df['Date'] = pd.to_datetime(df['Date'])  # Convertir la columna de Date\n",
    "\n",
    "# Extraer los meses disponibles\n",
    "meses_disponibles = df['Date'].dt.month.unique()\n",
    "meses_faltantes = [m for m in range(1, 13) if m not in meses_disponibles]\n",
    "\n",
    "# Crear datos sintéticos para los meses faltantes\n",
    "df_expansion = []\n",
    "for mes in meses_faltantes:\n",
    "    df_muestra = df.sample(frac=1, replace=True)  # Sampleo con reemplazo\n",
    "    df_muestra = df_muestra.reset_index(drop=True)\n",
    "    \n",
    "    # Generar Dates en el mes correspondiente\n",
    "    dias_mes = pd.date_range(start=f'2021-{mes:02d}-01', periods=30, freq='D')  # Ajusta según el año\n",
    "    df_muestra['Date'] = np.random.choice(dias_mes, size=len(df_muestra), replace=True)\n",
    "    \n",
    "    df_expansion.append(df_muestra)\n",
    "\n",
    "df = pd.concat([df] + df_expansion, ignore_index=True)\n",
    "# Guardar el nuevo dataset con datos hasta 2020\n",
    "# df_expanded.to_excel(\"dataset_expandido_hasta_2020.xlsx\", index=False)"
   ]
  },
  {
   "cell_type": "markdown",
   "metadata": {},
   "source": [
    "Agregar metricas que faltaban \n",
    "@NICO falta hacer que estas metricas afecten al df con los datos historicos"
   ]
  },
  {
   "cell_type": "code",
   "execution_count": 103,
   "metadata": {},
   "outputs": [],
   "source": [
    "def hash_asin(asin):\n",
    "    return abs(hash(asin)) % 11  # Genera un valor entre 0 y 10\n",
    "\n",
    "# 📌 Calcular COGS Unitario (35% - 45% del precio unitario)\n",
    "df[\"COGS Unit\"] = ((df[\"Amount_EUR\"] / df[\"Qty\"]) * (0.35 + (df[\"ASIN\"].apply(hash_asin) / 100))).round(2)\n",
    "\n",
    "# 📌 Calcular COGS Total\n",
    "df[\"COGS\"] = df[\"COGS Unit\"] * df[\"Qty\"]\n",
    "\n",
    "# 📌 Calcular Other Expenses (15% - 25% del Amount_EUR)\n",
    "df[\"Other Expenses\"] = (df[\"Amount_EUR\"] * (0.15 + (df[\"ASIN\"].apply(hash_asin) / 100))).round(2)\n",
    "\n",
    "# 📌 Calcular Gross Profit\n",
    "df[\"Gross Profit\"] = df[\"Amount_EUR\"] - df[\"COGS\"]\n",
    "\n",
    "# 📌 Calcular Net Profit\n",
    "df[\"Net Profit\"] = df[\"Gross Profit\"] - df[\"Other Expenses\"]"
   ]
  },
  {
   "cell_type": "code",
   "execution_count": 104,
   "metadata": {},
   "outputs": [
    {
     "data": {
      "text/plain": [
       "Index(['index', 'Order ID', 'Date', 'Status', 'Fulfilment', 'Sales Channel ',\n",
       "       'ship-service-level', 'Style', 'SKU', 'Category', 'Size', 'ASIN',\n",
       "       'Courier Status', 'Qty', 'currency', 'Amount', 'ship-city',\n",
       "       'ship-state', 'ship-postal-code', 'ship-country', 'promotion-ids',\n",
       "       'B2B', 'fulfilled-by', 'Unnamed: 22', 'Amount_EUR', 'COGS Unit', 'COGS',\n",
       "       'Other Expenses', 'Gross Profit', 'Net Profit'],\n",
       "      dtype='object')"
      ]
     },
     "execution_count": 104,
     "metadata": {},
     "output_type": "execute_result"
    }
   ],
   "source": [
    "df.columns"
   ]
  },
  {
   "cell_type": "code",
   "execution_count": 105,
   "metadata": {},
   "outputs": [
    {
     "data": {
      "text/html": [
       "<div>\n",
       "<style scoped>\n",
       "    .dataframe tbody tr th:only-of-type {\n",
       "        vertical-align: middle;\n",
       "    }\n",
       "\n",
       "    .dataframe tbody tr th {\n",
       "        vertical-align: top;\n",
       "    }\n",
       "\n",
       "    .dataframe thead th {\n",
       "        text-align: right;\n",
       "    }\n",
       "</style>\n",
       "<table border=\"1\" class=\"dataframe\">\n",
       "  <thead>\n",
       "    <tr style=\"text-align: right;\">\n",
       "      <th></th>\n",
       "      <th>index</th>\n",
       "      <th>Date</th>\n",
       "      <th>Qty</th>\n",
       "      <th>Amount</th>\n",
       "      <th>ship-postal-code</th>\n",
       "      <th>Amount_EUR</th>\n",
       "      <th>COGS Unit</th>\n",
       "      <th>COGS</th>\n",
       "      <th>Other Expenses</th>\n",
       "      <th>Gross Profit</th>\n",
       "      <th>Net Profit</th>\n",
       "    </tr>\n",
       "  </thead>\n",
       "  <tbody>\n",
       "    <tr>\n",
       "      <th>count</th>\n",
       "      <td>1.160775e+06</td>\n",
       "      <td>1160775</td>\n",
       "      <td>1.160775e+06</td>\n",
       "      <td>1.090416e+06</td>\n",
       "      <td>1.160463e+06</td>\n",
       "      <td>1.090416e+06</td>\n",
       "      <td>1090416.00</td>\n",
       "      <td>1.044500e+06</td>\n",
       "      <td>1.090416e+06</td>\n",
       "      <td>1.044500e+06</td>\n",
       "      <td>1.044500e+06</td>\n",
       "    </tr>\n",
       "    <tr>\n",
       "      <th>mean</th>\n",
       "      <td>6.447466e+04</td>\n",
       "      <td>2021-09-01 09:18:13.076953856</td>\n",
       "      <td>9.046353e-01</td>\n",
       "      <td>6.485350e+02</td>\n",
       "      <td>4.640678e+05</td>\n",
       "      <td>7.133885e+00</td>\n",
       "      <td>inf</td>\n",
       "      <td>2.858907e+00</td>\n",
       "      <td>1.426766e+00</td>\n",
       "      <td>4.288021e+00</td>\n",
       "      <td>2.858510e+00</td>\n",
       "    </tr>\n",
       "    <tr>\n",
       "      <th>min</th>\n",
       "      <td>0.000000e+00</td>\n",
       "      <td>2021-01-01 00:00:00</td>\n",
       "      <td>0.000000e+00</td>\n",
       "      <td>0.000000e+00</td>\n",
       "      <td>1.100010e+05</td>\n",
       "      <td>0.000000e+00</td>\n",
       "      <td>0.00</td>\n",
       "      <td>0.000000e+00</td>\n",
       "      <td>0.000000e+00</td>\n",
       "      <td>0.000000e+00</td>\n",
       "      <td>0.000000e+00</td>\n",
       "    </tr>\n",
       "    <tr>\n",
       "      <th>25%</th>\n",
       "      <td>3.224800e+04</td>\n",
       "      <td>2021-07-08 00:00:00</td>\n",
       "      <td>1.000000e+00</td>\n",
       "      <td>4.490000e+02</td>\n",
       "      <td>3.824210e+05</td>\n",
       "      <td>4.939000e+00</td>\n",
       "      <td>1.98</td>\n",
       "      <td>1.960000e+00</td>\n",
       "      <td>9.600000e-01</td>\n",
       "      <td>2.947000e+00</td>\n",
       "      <td>1.920000e+00</td>\n",
       "    </tr>\n",
       "    <tr>\n",
       "      <th>50%</th>\n",
       "      <td>6.444200e+04</td>\n",
       "      <td>2021-09-15 00:00:00</td>\n",
       "      <td>1.000000e+00</td>\n",
       "      <td>6.050000e+02</td>\n",
       "      <td>5.000330e+05</td>\n",
       "      <td>6.655000e+00</td>\n",
       "      <td>2.72</td>\n",
       "      <td>2.650000e+00</td>\n",
       "      <td>1.290000e+00</td>\n",
       "      <td>4.019000e+00</td>\n",
       "      <td>2.629000e+00</td>\n",
       "    </tr>\n",
       "    <tr>\n",
       "      <th>75%</th>\n",
       "      <td>9.671900e+04</td>\n",
       "      <td>2021-11-23 00:00:00</td>\n",
       "      <td>1.000000e+00</td>\n",
       "      <td>7.880000e+02</td>\n",
       "      <td>6.000240e+05</td>\n",
       "      <td>8.668000e+00</td>\n",
       "      <td>3.64</td>\n",
       "      <td>3.510000e+00</td>\n",
       "      <td>1.770000e+00</td>\n",
       "      <td>5.259000e+00</td>\n",
       "      <td>3.601000e+00</td>\n",
       "    </tr>\n",
       "    <tr>\n",
       "      <th>max</th>\n",
       "      <td>1.289740e+05</td>\n",
       "      <td>2022-06-29 00:00:00</td>\n",
       "      <td>1.500000e+01</td>\n",
       "      <td>5.584000e+03</td>\n",
       "      <td>9.898980e+05</td>\n",
       "      <td>6.142400e+01</td>\n",
       "      <td>inf</td>\n",
       "      <td>2.295000e+01</td>\n",
       "      <td>1.088000e+01</td>\n",
       "      <td>3.870400e+01</td>\n",
       "      <td>2.826400e+01</td>\n",
       "    </tr>\n",
       "    <tr>\n",
       "      <th>std</th>\n",
       "      <td>3.722917e+04</td>\n",
       "      <td>NaN</td>\n",
       "      <td>3.119641e-01</td>\n",
       "      <td>2.810760e+02</td>\n",
       "      <td>1.914617e+05</td>\n",
       "      <td>3.091836e+00</td>\n",
       "      <td>NaN</td>\n",
       "      <td>1.277435e+00</td>\n",
       "      <td>6.760733e-01</td>\n",
       "      <td>1.869412e+00</td>\n",
       "      <td>1.317848e+00</td>\n",
       "    </tr>\n",
       "  </tbody>\n",
       "</table>\n",
       "</div>"
      ],
      "text/plain": [
       "              index                           Date           Qty  \\\n",
       "count  1.160775e+06                        1160775  1.160775e+06   \n",
       "mean   6.447466e+04  2021-09-01 09:18:13.076953856  9.046353e-01   \n",
       "min    0.000000e+00            2021-01-01 00:00:00  0.000000e+00   \n",
       "25%    3.224800e+04            2021-07-08 00:00:00  1.000000e+00   \n",
       "50%    6.444200e+04            2021-09-15 00:00:00  1.000000e+00   \n",
       "75%    9.671900e+04            2021-11-23 00:00:00  1.000000e+00   \n",
       "max    1.289740e+05            2022-06-29 00:00:00  1.500000e+01   \n",
       "std    3.722917e+04                            NaN  3.119641e-01   \n",
       "\n",
       "             Amount  ship-postal-code    Amount_EUR   COGS Unit          COGS  \\\n",
       "count  1.090416e+06      1.160463e+06  1.090416e+06  1090416.00  1.044500e+06   \n",
       "mean   6.485350e+02      4.640678e+05  7.133885e+00         inf  2.858907e+00   \n",
       "min    0.000000e+00      1.100010e+05  0.000000e+00        0.00  0.000000e+00   \n",
       "25%    4.490000e+02      3.824210e+05  4.939000e+00        1.98  1.960000e+00   \n",
       "50%    6.050000e+02      5.000330e+05  6.655000e+00        2.72  2.650000e+00   \n",
       "75%    7.880000e+02      6.000240e+05  8.668000e+00        3.64  3.510000e+00   \n",
       "max    5.584000e+03      9.898980e+05  6.142400e+01         inf  2.295000e+01   \n",
       "std    2.810760e+02      1.914617e+05  3.091836e+00         NaN  1.277435e+00   \n",
       "\n",
       "       Other Expenses  Gross Profit    Net Profit  \n",
       "count    1.090416e+06  1.044500e+06  1.044500e+06  \n",
       "mean     1.426766e+00  4.288021e+00  2.858510e+00  \n",
       "min      0.000000e+00  0.000000e+00  0.000000e+00  \n",
       "25%      9.600000e-01  2.947000e+00  1.920000e+00  \n",
       "50%      1.290000e+00  4.019000e+00  2.629000e+00  \n",
       "75%      1.770000e+00  5.259000e+00  3.601000e+00  \n",
       "max      1.088000e+01  3.870400e+01  2.826400e+01  \n",
       "std      6.760733e-01  1.869412e+00  1.317848e+00  "
      ]
     },
     "execution_count": 105,
     "metadata": {},
     "output_type": "execute_result"
    }
   ],
   "source": [
    "df.describe()"
   ]
  },
  {
   "cell_type": "code",
   "execution_count": 106,
   "metadata": {},
   "outputs": [],
   "source": [
    "df.drop(columns=[\"index\", \"Unnamed: 22\"], inplace=True)"
   ]
  },
  {
   "cell_type": "code",
   "execution_count": 107,
   "metadata": {},
   "outputs": [
    {
     "data": {
      "text/plain": [
       "61.424"
      ]
     },
     "execution_count": 107,
     "metadata": {},
     "output_type": "execute_result"
    }
   ],
   "source": [
    "df['Amount_EUR'].max()"
   ]
  },
  {
   "cell_type": "markdown",
   "metadata": {},
   "source": [
    "### Agregador de Data Historica"
   ]
  },
  {
   "cell_type": "code",
   "execution_count": 108,
   "metadata": {},
   "outputs": [
    {
     "name": "stdout",
     "output_type": "stream",
     "text": [
      "Rango de fechas: 2021-01-01 00:00:00 - 2022-06-29 00:00:00\n"
     ]
    }
   ],
   "source": [
    "min_date = df['Date'].min()\n",
    "max_date = df['Date'].max()\n",
    "print(f\"Rango de fechas: {min_date} - {max_date}\")"
   ]
  },
  {
   "cell_type": "markdown",
   "metadata": {},
   "source": [
    "### Descargar Archivo"
   ]
  },
  {
   "cell_type": "code",
   "execution_count": 109,
   "metadata": {},
   "outputs": [],
   "source": [
    "df.to_csv(\"./sales-data/amazon-sale-report-clean.csv\", index=False)"
   ]
  },
  {
   "cell_type": "code",
   "execution_count": 110,
   "metadata": {},
   "outputs": [
    {
     "name": "stdout",
     "output_type": "stream",
     "text": [
      "<class 'pandas.core.frame.DataFrame'>\n",
      "RangeIndex: 1160775 entries, 0 to 1160774\n",
      "Data columns (total 28 columns):\n",
      " #   Column              Non-Null Count    Dtype         \n",
      "---  ------              --------------    -----         \n",
      " 0   Order ID            1160775 non-null  object        \n",
      " 1   Date                1160775 non-null  datetime64[ns]\n",
      " 2   Status              1160775 non-null  object        \n",
      " 3   Fulfilment          1160775 non-null  object        \n",
      " 4   Sales Channel       1160775 non-null  object        \n",
      " 5   ship-service-level  1160775 non-null  object        \n",
      " 6   Style               1160775 non-null  object        \n",
      " 7   SKU                 1160775 non-null  object        \n",
      " 8   Category            1160775 non-null  object        \n",
      " 9   Size                1160775 non-null  object        \n",
      " 10  ASIN                1160775 non-null  object        \n",
      " 11  Courier Status      1099163 non-null  object        \n",
      " 12  Qty                 1160775 non-null  int64         \n",
      " 13  currency            1090416 non-null  object        \n",
      " 14  Amount              1090416 non-null  float64       \n",
      " 15  ship-city           1160463 non-null  object        \n",
      " 16  ship-state          1160463 non-null  object        \n",
      " 17  ship-postal-code    1160463 non-null  float64       \n",
      " 18  ship-country        1160463 non-null  object        \n",
      " 19  promotion-ids       718592 non-null   object        \n",
      " 20  B2B                 1160775 non-null  bool          \n",
      " 21  fulfilled-by        353096 non-null   object        \n",
      " 22  Amount_EUR          1090416 non-null  float64       \n",
      " 23  COGS Unit           1090416 non-null  float64       \n",
      " 24  COGS                1044500 non-null  float64       \n",
      " 25  Other Expenses      1090416 non-null  float64       \n",
      " 26  Gross Profit        1044500 non-null  float64       \n",
      " 27  Net Profit          1044500 non-null  float64       \n",
      "dtypes: bool(1), datetime64[ns](1), float64(8), int64(1), object(17)\n",
      "memory usage: 240.2+ MB\n"
     ]
    }
   ],
   "source": [
    "df.info()"
   ]
  },
  {
   "cell_type": "code",
   "execution_count": 111,
   "metadata": {},
   "outputs": [
    {
     "data": {
      "text/plain": [
       "0         2022-04-30\n",
       "1         2022-04-30\n",
       "2         2022-04-30\n",
       "3         2022-04-30\n",
       "4         2022-04-30\n",
       "             ...    \n",
       "1160770   2021-12-04\n",
       "1160771   2021-12-05\n",
       "1160772   2021-12-11\n",
       "1160773   2021-12-20\n",
       "1160774   2021-12-14\n",
       "Name: Date, Length: 1160775, dtype: datetime64[ns]"
      ]
     },
     "execution_count": 111,
     "metadata": {},
     "output_type": "execute_result"
    }
   ],
   "source": [
    "df['Date']"
   ]
  },
  {
   "cell_type": "code",
   "execution_count": null,
   "metadata": {},
   "outputs": [],
   "source": []
  }
 ],
 "metadata": {
  "kernelspec": {
   "display_name": "sanisi-env",
   "language": "python",
   "name": "python3"
  },
  "language_info": {
   "codemirror_mode": {
    "name": "ipython",
    "version": 3
   },
   "file_extension": ".py",
   "mimetype": "text/x-python",
   "name": "python",
   "nbconvert_exporter": "python",
   "pygments_lexer": "ipython3",
   "version": "3.13.1"
  }
 },
 "nbformat": 4,
 "nbformat_minor": 2
}
